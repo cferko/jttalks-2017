{
 "cells": [
  {
   "cell_type": "markdown",
   "metadata": {},
   "source": [
    "# Exploring Cosmic Microwave Background Data\n",
    "\n",
    "Click inside the cell below this one and hit the SHIFT and ENTER keys at the same time."
   ]
  },
  {
   "cell_type": "code",
   "execution_count": 30,
   "metadata": {
    "collapsed": false
   },
   "outputs": [
    {
     "data": {
      "text/plain": [
       "<matplotlib.text.Text at 0xd916c50>"
      ]
     },
     "execution_count": 30,
     "metadata": {},
     "output_type": "execute_result"
    },
    {
     "data": {
      "image/png": "[encoded data removed]",
      "text/plain": [
       "<matplotlib.figure.Figure at 0xbb4bf98>"
      ]
     },
     "metadata": {},
     "output_type": "display_data"
    }
   ],
   "source": [
    "import numpy as np, pandas as pd, matplotlib.pyplot as plt, seaborn as sns\n",
    "sns.set_context(\"notebook\") ## This makes things look prettier\n",
    "%matplotlib inline\n",
    "\n",
    "spec_data = pd.read_csv(\"data/spec_data.csv\")\n",
    "\n",
    "spec_data.plot(x='ell', y='D(ell)', kind='scatter', logx=True, xlim=[2.,2500.], ylim=[0,6000])\n",
    "plt.xlabel(r'$\\ell$')\n",
    "plt.ylabel(r'$D(\\ell)$')\n",
    "plt.title(\"Data from Planck Satellite\")"
   ]
  },
  {
   "cell_type": "markdown",
   "metadata": {},
   "source": [
    "This is a plot of the power spectrum in the cosmic microwave background. It is, quite literally, a baby picture of our universe.\n",
    "\n",
    "There is an unbelievable amount of information hidden in this one simple image, but at the moment, none of that information is obvious because I haven't told you anything about it! You might have questions like\n",
    "\n",
    "* What are these axes? \n",
    "* What is $\\ell$ and what is $D(\\ell)$ ? \n",
    "* What is the meaning of this big peak and these secondary peaks? What physics is encoded in this tail behavior?\n",
    "* If this is _measured_ data, how does it compare with _predictions_ from theory?\n",
    "\n",
    "and more.\n",
    "\n",
    "In a lecture, I would tell you the answers to these questions. But today, you're going to break into small groups and ask these questions yourselves. Your mission is to look at the data and decide which questions you find most interesting. Then you can ask the facilitators -- me, Ms. Mauro, Michelle, or Takumi -- for help in investigating your questions.\n",
    "\n",
    "We'll give you hints and hand out snippets of code for you to type in and evaluate, which will help you understand and answer the questions you come up with, but the ultimate responsibility for answering the questions lies with *you*. Today, you play the scientists: you get to choose what's interesting and worth investigating. At the end, I'll ask you to summarize what you've learned and ask what questions remain unanswered.\n",
    "\n",
    "Sound like fun? I sure think so. Let's dive in!"
   ]
  },
  {
   "cell_type": "markdown",
   "metadata": {},
   "source": [
    "## Code Snippet 1\n",
    "\n",
    "This snippet is distributed to students who ask about the plateau in the low-ell region.\n",
    "\n",
    "The goal is to fit the functional form of $D(\\ell)$ vs. $\\ell$ to a power-law\n",
    "\n",
    "$$ D(\\ell) = A \\cdot \\ell^{n_t - 1}$$\n",
    "\n",
    "The students should find fit values of\n",
    "\n",
    "$$\\text{Best } A =  386.500629168$$\n",
    "$$\\text{Best } n_t =  1.30271484034$$"
   ]
  },
  {
   "cell_type": "code",
   "execution_count": 31,
   "metadata": {
    "collapsed": false
   },
   "outputs": [
    {
     "name": "stdout",
     "output_type": "stream",
     "text": [
      "('Best A = ', 386.50063082611331)\n",
      "('Best n_t = ', 1.3027148391049668)\n"
     ]
    }
   ],
   "source": [
    "## Code snippet 1\n",
    "\n",
    "from scipy.optimize import curve_fit\n",
    "\n",
    "small_ell_data = spec_data[spec_data[\"ell\"]<50]\n",
    "small_ells = small_ell_data[\"ell\"].values\n",
    "small_D_ells = small_ell_data[\"D(ell)\"].values\n",
    "\n",
    "def my_fit_function(ell, A, n_t):\n",
    "    return A*(ell)**(n_t - 1)\n",
    "\n",
    "fit_result = curve_fit(my_fit_function, small_ells, small_D_ells)\n",
    "\n",
    "print(\"Best A = \", fit_result[0][0])\n",
    "print(\"Best n_t = \", fit_result[0][1])"
   ]
  },
  {
   "cell_type": "code",
   "execution_count": 32,
   "metadata": {
    "collapsed": false
   },
   "outputs": [
    {
     "data": {
      "text/plain": [
       "[<matplotlib.lines.Line2D at 0xd6aa668>]"
      ]
     },
     "execution_count": 32,
     "metadata": {},
     "output_type": "execute_result"
    },
    {
     "data": {
      "image/png": "[encoded data removed]",
      "text/plain": [
       "<matplotlib.figure.Figure at 0xb432278>"
      ]
     },
     "metadata": {},
     "output_type": "display_data"
    }
   ],
   "source": [
    "A = 386.5 ## Change this to your number for A!\n",
    "n_t = 1.3027 ## Change this to your number for n_t!\n",
    "\n",
    "my_test_ells = [ell for ell in range(1, 50)]\n",
    "my_test_D_ells = [my_fit_function(ell, A, n_t) for ell in range(1, 50)]\n",
    "\n",
    "plt.plot(my_test_ells, my_test_D_ells, 'r') ## Red line for the fit\n",
    "plt.plot(small_ells, small_D_ells, 'bo') ## Blue dots for data"
   ]
  },
  {
   "cell_type": "markdown",
   "metadata": {},
   "source": [
    "## Code Snippet 2\n",
    "\n",
    "This code is distributed to students who ask about fitting the observed CMB data to some theoretical model.\n",
    "\n",
    "The snippet compared predictions from CAMB to the experimental observations from Planck."
   ]
  },
  {
   "cell_type": "code",
   "execution_count": 33,
   "metadata": {
    "collapsed": false
   },
   "outputs": [
    {
     "data": {
      "text/plain": [
       "<matplotlib.text.Text at 0xde455f8>"
      ]
     },
     "execution_count": 33,
     "metadata": {},
     "output_type": "execute_result"
    },
    {
     "data": {
      "image/png": "[encoded data removed]",
      "text/plain": [
       "<matplotlib.figure.Figure at 0xb451c50>"
      ]
     },
     "metadata": {},
     "output_type": "display_data"
    }
   ],
   "source": [
    "camb_data = pd.read_csv(\"data/camb_data.csv\")\n",
    "\n",
    "combined_plot = spec_data.plot(x='ell', y='D(ell)', \n",
    "    kind='scatter', logx=True, xlim=[2.,2500.], ylim=[0,7000])\n",
    "\n",
    "plt.xlabel(r'$\\ell$')\n",
    "plt.ylabel(r'$D(\\ell)$')\n",
    "camb_data.plot(x='CAMB_ell', y='CAMB_D(ell)', kind='line', \n",
    "    logx=True, xlim=[2.,2500.], ylim=[0,7000], ax=combined_plot, color='red')\n",
    "\n",
    "plt.legend([\"CAMB Simulation\",\"Planck Data\"], loc=2)\n",
    "plt.xlabel(r'$\\ell$')\n",
    "plt.ylabel(r'$D(\\ell)$')\n",
    "\n",
    "plt.title(\"Data from Planck and Simulation from CAMB\")"
   ]
  },
  {
   "cell_type": "markdown",
   "metadata": {},
   "source": [
    "## Code Snippet 3\n",
    "\n",
    "This code snippet is distributed after discussing the geometry of space and its relationship to the $\\ell$ value of the first peak in the CMB spectrum data."
   ]
  },
  {
   "cell_type": "code",
   "execution_count": 34,
   "metadata": {
    "collapsed": false
   },
   "outputs": [
    {
     "data": {
      "text/html": [
       "<div>\n",
       "<table border=\"1\" class=\"dataframe\">\n",
       "  <thead>\n",
       "    <tr style=\"text-align: right;\">\n",
       "      <th></th>\n",
       "      <th>Unnamed: 0</th>\n",
       "      <th>ell</th>\n",
       "      <th>D(ell)</th>\n",
       "      <th>Uncertainty in ell</th>\n",
       "      <th>Uncertainty in D(ell)</th>\n",
       "    </tr>\n",
       "  </thead>\n",
       "  <tbody>\n",
       "    <tr>\n",
       "      <th>54</th>\n",
       "      <td>54</td>\n",
       "      <td>233.0</td>\n",
       "      <td>5703.160</td>\n",
       "      <td>15.0</td>\n",
       "      <td>95.140</td>\n",
       "    </tr>\n",
       "    <tr>\n",
       "      <th>53</th>\n",
       "      <td>53</td>\n",
       "      <td>202.0</td>\n",
       "      <td>5524.530</td>\n",
       "      <td>15.0</td>\n",
       "      <td>101.050</td>\n",
       "    </tr>\n",
       "    <tr>\n",
       "      <th>55</th>\n",
       "      <td>55</td>\n",
       "      <td>264.0</td>\n",
       "      <td>4953.540</td>\n",
       "      <td>15.0</td>\n",
       "      <td>81.720</td>\n",
       "    </tr>\n",
       "    <tr>\n",
       "      <th>52</th>\n",
       "      <td>52</td>\n",
       "      <td>171.0</td>\n",
       "      <td>4867.410</td>\n",
       "      <td>15.0</td>\n",
       "      <td>97.940</td>\n",
       "    </tr>\n",
       "    <tr>\n",
       "      <th>56</th>\n",
       "      <td>56</td>\n",
       "      <td>295.0</td>\n",
       "      <td>4116.060</td>\n",
       "      <td>15.0</td>\n",
       "      <td>64.140</td>\n",
       "    </tr>\n",
       "    <tr>\n",
       "      <th>51</th>\n",
       "      <td>51</td>\n",
       "      <td>140.0</td>\n",
       "      <td>3893.830</td>\n",
       "      <td>15.0</td>\n",
       "      <td>87.350</td>\n",
       "    </tr>\n",
       "    <tr>\n",
       "      <th>57</th>\n",
       "      <td>57</td>\n",
       "      <td>326.0</td>\n",
       "      <td>3123.860</td>\n",
       "      <td>15.0</td>\n",
       "      <td>46.600</td>\n",
       "    </tr>\n",
       "    <tr>\n",
       "      <th>50</th>\n",
       "      <td>50</td>\n",
       "      <td>109.0</td>\n",
       "      <td>3027.820</td>\n",
       "      <td>15.0</td>\n",
       "      <td>73.290</td>\n",
       "    </tr>\n",
       "    <tr>\n",
       "      <th>63</th>\n",
       "      <td>63</td>\n",
       "      <td>512.0</td>\n",
       "      <td>2506.610</td>\n",
       "      <td>15.0</td>\n",
       "      <td>28.890</td>\n",
       "    </tr>\n",
       "    <tr>\n",
       "      <th>64</th>\n",
       "      <td>64</td>\n",
       "      <td>543.0</td>\n",
       "      <td>2484.240</td>\n",
       "      <td>15.0</td>\n",
       "      <td>28.780</td>\n",
       "    </tr>\n",
       "    <tr>\n",
       "      <th>73</th>\n",
       "      <td>73</td>\n",
       "      <td>822.0</td>\n",
       "      <td>2464.710</td>\n",
       "      <td>15.0</td>\n",
       "      <td>24.000</td>\n",
       "    </tr>\n",
       "    <tr>\n",
       "      <th>65</th>\n",
       "      <td>65</td>\n",
       "      <td>574.0</td>\n",
       "      <td>2396.510</td>\n",
       "      <td>15.0</td>\n",
       "      <td>26.610</td>\n",
       "    </tr>\n",
       "    <tr>\n",
       "      <th>72</th>\n",
       "      <td>72</td>\n",
       "      <td>791.0</td>\n",
       "      <td>2345.970</td>\n",
       "      <td>15.0</td>\n",
       "      <td>23.980</td>\n",
       "    </tr>\n",
       "    <tr>\n",
       "      <th>74</th>\n",
       "      <td>74</td>\n",
       "      <td>853.0</td>\n",
       "      <td>2341.590</td>\n",
       "      <td>15.0</td>\n",
       "      <td>22.460</td>\n",
       "    </tr>\n",
       "    <tr>\n",
       "      <th>58</th>\n",
       "      <td>58</td>\n",
       "      <td>357.0</td>\n",
       "      <td>2282.710</td>\n",
       "      <td>15.0</td>\n",
       "      <td>32.850</td>\n",
       "    </tr>\n",
       "    <tr>\n",
       "      <th>71</th>\n",
       "      <td>71</td>\n",
       "      <td>760.0</td>\n",
       "      <td>2237.310</td>\n",
       "      <td>15.0</td>\n",
       "      <td>22.600</td>\n",
       "    </tr>\n",
       "    <tr>\n",
       "      <th>62</th>\n",
       "      <td>62</td>\n",
       "      <td>481.0</td>\n",
       "      <td>2229.410</td>\n",
       "      <td>15.0</td>\n",
       "      <td>26.900</td>\n",
       "    </tr>\n",
       "    <tr>\n",
       "      <th>66</th>\n",
       "      <td>66</td>\n",
       "      <td>605.0</td>\n",
       "      <td>2124.690</td>\n",
       "      <td>15.0</td>\n",
       "      <td>23.390</td>\n",
       "    </tr>\n",
       "    <tr>\n",
       "      <th>75</th>\n",
       "      <td>75</td>\n",
       "      <td>884.0</td>\n",
       "      <td>2030.010</td>\n",
       "      <td>15.0</td>\n",
       "      <td>19.700</td>\n",
       "    </tr>\n",
       "    <tr>\n",
       "      <th>49</th>\n",
       "      <td>49</td>\n",
       "      <td>78.0</td>\n",
       "      <td>2016.710</td>\n",
       "      <td>15.0</td>\n",
       "      <td>60.070</td>\n",
       "    </tr>\n",
       "    <tr>\n",
       "      <th>70</th>\n",
       "      <td>70</td>\n",
       "      <td>729.0</td>\n",
       "      <td>1962.250</td>\n",
       "      <td>15.0</td>\n",
       "      <td>20.610</td>\n",
       "    </tr>\n",
       "    <tr>\n",
       "      <th>38</th>\n",
       "      <td>38</td>\n",
       "      <td>40.0</td>\n",
       "      <td>1927.530</td>\n",
       "      <td>0.0</td>\n",
       "      <td>294.639</td>\n",
       "    </tr>\n",
       "    <tr>\n",
       "      <th>61</th>\n",
       "      <td>61</td>\n",
       "      <td>450.0</td>\n",
       "      <td>1922.190</td>\n",
       "      <td>15.0</td>\n",
       "      <td>23.960</td>\n",
       "    </tr>\n",
       "    <tr>\n",
       "      <th>67</th>\n",
       "      <td>67</td>\n",
       "      <td>636.0</td>\n",
       "      <td>1863.840</td>\n",
       "      <td>15.0</td>\n",
       "      <td>20.440</td>\n",
       "    </tr>\n",
       "    <tr>\n",
       "      <th>59</th>\n",
       "      <td>59</td>\n",
       "      <td>388.0</td>\n",
       "      <td>1836.200</td>\n",
       "      <td>15.0</td>\n",
       "      <td>24.750</td>\n",
       "    </tr>\n",
       "    <tr>\n",
       "      <th>69</th>\n",
       "      <td>69</td>\n",
       "      <td>698.0</td>\n",
       "      <td>1819.880</td>\n",
       "      <td>15.0</td>\n",
       "      <td>19.050</td>\n",
       "    </tr>\n",
       "    <tr>\n",
       "      <th>68</th>\n",
       "      <td>68</td>\n",
       "      <td>667.0</td>\n",
       "      <td>1792.350</td>\n",
       "      <td>15.0</td>\n",
       "      <td>18.860</td>\n",
       "    </tr>\n",
       "    <tr>\n",
       "      <th>60</th>\n",
       "      <td>60</td>\n",
       "      <td>419.0</td>\n",
       "      <td>1691.910</td>\n",
       "      <td>15.0</td>\n",
       "      <td>22.370</td>\n",
       "    </tr>\n",
       "    <tr>\n",
       "      <th>76</th>\n",
       "      <td>76</td>\n",
       "      <td>915.0</td>\n",
       "      <td>1682.610</td>\n",
       "      <td>15.0</td>\n",
       "      <td>16.420</td>\n",
       "    </tr>\n",
       "    <tr>\n",
       "      <th>45</th>\n",
       "      <td>45</td>\n",
       "      <td>47.0</td>\n",
       "      <td>1619.330</td>\n",
       "      <td>0.0</td>\n",
       "      <td>246.182</td>\n",
       "    </tr>\n",
       "    <tr>\n",
       "      <th>...</th>\n",
       "      <td>...</td>\n",
       "      <td>...</td>\n",
       "      <td>...</td>\n",
       "      <td>...</td>\n",
       "      <td>...</td>\n",
       "    </tr>\n",
       "    <tr>\n",
       "      <th>20</th>\n",
       "      <td>20</td>\n",
       "      <td>22.0</td>\n",
       "      <td>620.243</td>\n",
       "      <td>0.0</td>\n",
       "      <td>136.567</td>\n",
       "    </tr>\n",
       "    <tr>\n",
       "      <th>4</th>\n",
       "      <td>4</td>\n",
       "      <td>6.0</td>\n",
       "      <td>599.185</td>\n",
       "      <td>0.0</td>\n",
       "      <td>218.548</td>\n",
       "    </tr>\n",
       "    <tr>\n",
       "      <th>19</th>\n",
       "      <td>19</td>\n",
       "      <td>21.0</td>\n",
       "      <td>581.438</td>\n",
       "      <td>0.0</td>\n",
       "      <td>134.609</td>\n",
       "    </tr>\n",
       "    <tr>\n",
       "      <th>96</th>\n",
       "      <td>96</td>\n",
       "      <td>1535.0</td>\n",
       "      <td>554.480</td>\n",
       "      <td>15.0</td>\n",
       "      <td>6.700</td>\n",
       "    </tr>\n",
       "    <tr>\n",
       "      <th>97</th>\n",
       "      <td>97</td>\n",
       "      <td>1566.0</td>\n",
       "      <td>477.660</td>\n",
       "      <td>15.0</td>\n",
       "      <td>6.060</td>\n",
       "    </tr>\n",
       "    <tr>\n",
       "      <th>98</th>\n",
       "      <td>98</td>\n",
       "      <td>1597.0</td>\n",
       "      <td>420.020</td>\n",
       "      <td>15.0</td>\n",
       "      <td>5.650</td>\n",
       "    </tr>\n",
       "    <tr>\n",
       "      <th>99</th>\n",
       "      <td>99</td>\n",
       "      <td>1628.0</td>\n",
       "      <td>387.210</td>\n",
       "      <td>15.0</td>\n",
       "      <td>5.510</td>\n",
       "    </tr>\n",
       "    <tr>\n",
       "      <th>100</th>\n",
       "      <td>100</td>\n",
       "      <td>1659.0</td>\n",
       "      <td>382.850</td>\n",
       "      <td>15.0</td>\n",
       "      <td>5.590</td>\n",
       "    </tr>\n",
       "    <tr>\n",
       "      <th>102</th>\n",
       "      <td>102</td>\n",
       "      <td>1721.0</td>\n",
       "      <td>374.450</td>\n",
       "      <td>15.0</td>\n",
       "      <td>6.010</td>\n",
       "    </tr>\n",
       "    <tr>\n",
       "      <th>101</th>\n",
       "      <td>101</td>\n",
       "      <td>1690.0</td>\n",
       "      <td>373.950</td>\n",
       "      <td>15.0</td>\n",
       "      <td>5.790</td>\n",
       "    </tr>\n",
       "    <tr>\n",
       "      <th>103</th>\n",
       "      <td>103</td>\n",
       "      <td>1752.0</td>\n",
       "      <td>365.190</td>\n",
       "      <td>15.0</td>\n",
       "      <td>6.170</td>\n",
       "    </tr>\n",
       "    <tr>\n",
       "      <th>104</th>\n",
       "      <td>104</td>\n",
       "      <td>1783.0</td>\n",
       "      <td>342.350</td>\n",
       "      <td>15.0</td>\n",
       "      <td>6.240</td>\n",
       "    </tr>\n",
       "    <tr>\n",
       "      <th>105</th>\n",
       "      <td>105</td>\n",
       "      <td>1814.0</td>\n",
       "      <td>319.730</td>\n",
       "      <td>15.0</td>\n",
       "      <td>6.250</td>\n",
       "    </tr>\n",
       "    <tr>\n",
       "      <th>0</th>\n",
       "      <td>0</td>\n",
       "      <td>2.0</td>\n",
       "      <td>299.495</td>\n",
       "      <td>0.0</td>\n",
       "      <td>159.596</td>\n",
       "    </tr>\n",
       "    <tr>\n",
       "      <th>106</th>\n",
       "      <td>106</td>\n",
       "      <td>1845.0</td>\n",
       "      <td>278.340</td>\n",
       "      <td>15.0</td>\n",
       "      <td>6.250</td>\n",
       "    </tr>\n",
       "    <tr>\n",
       "      <th>107</th>\n",
       "      <td>107</td>\n",
       "      <td>1876.0</td>\n",
       "      <td>250.100</td>\n",
       "      <td>15.0</td>\n",
       "      <td>6.310</td>\n",
       "    </tr>\n",
       "    <tr>\n",
       "      <th>108</th>\n",
       "      <td>108</td>\n",
       "      <td>1907.0</td>\n",
       "      <td>239.600</td>\n",
       "      <td>15.0</td>\n",
       "      <td>6.470</td>\n",
       "    </tr>\n",
       "    <tr>\n",
       "      <th>111</th>\n",
       "      <td>111</td>\n",
       "      <td>2000.0</td>\n",
       "      <td>232.560</td>\n",
       "      <td>15.0</td>\n",
       "      <td>7.660</td>\n",
       "    </tr>\n",
       "    <tr>\n",
       "      <th>110</th>\n",
       "      <td>110</td>\n",
       "      <td>1969.0</td>\n",
       "      <td>226.130</td>\n",
       "      <td>15.0</td>\n",
       "      <td>7.130</td>\n",
       "    </tr>\n",
       "    <tr>\n",
       "      <th>113</th>\n",
       "      <td>113</td>\n",
       "      <td>2062.0</td>\n",
       "      <td>218.140</td>\n",
       "      <td>15.0</td>\n",
       "      <td>8.700</td>\n",
       "    </tr>\n",
       "    <tr>\n",
       "      <th>109</th>\n",
       "      <td>109</td>\n",
       "      <td>1938.0</td>\n",
       "      <td>215.630</td>\n",
       "      <td>15.0</td>\n",
       "      <td>6.750</td>\n",
       "    </tr>\n",
       "    <tr>\n",
       "      <th>112</th>\n",
       "      <td>112</td>\n",
       "      <td>2031.0</td>\n",
       "      <td>213.070</td>\n",
       "      <td>15.0</td>\n",
       "      <td>8.210</td>\n",
       "    </tr>\n",
       "    <tr>\n",
       "      <th>114</th>\n",
       "      <td>114</td>\n",
       "      <td>2093.0</td>\n",
       "      <td>208.670</td>\n",
       "      <td>15.0</td>\n",
       "      <td>9.190</td>\n",
       "    </tr>\n",
       "    <tr>\n",
       "      <th>115</th>\n",
       "      <td>115</td>\n",
       "      <td>2124.0</td>\n",
       "      <td>191.160</td>\n",
       "      <td>15.0</td>\n",
       "      <td>9.700</td>\n",
       "    </tr>\n",
       "    <tr>\n",
       "      <th>116</th>\n",
       "      <td>116</td>\n",
       "      <td>2155.0</td>\n",
       "      <td>179.330</td>\n",
       "      <td>15.0</td>\n",
       "      <td>10.250</td>\n",
       "    </tr>\n",
       "    <tr>\n",
       "      <th>117</th>\n",
       "      <td>117</td>\n",
       "      <td>2186.0</td>\n",
       "      <td>162.270</td>\n",
       "      <td>15.0</td>\n",
       "      <td>10.880</td>\n",
       "    </tr>\n",
       "    <tr>\n",
       "      <th>118</th>\n",
       "      <td>118</td>\n",
       "      <td>2220.0</td>\n",
       "      <td>127.880</td>\n",
       "      <td>18.0</td>\n",
       "      <td>10.630</td>\n",
       "    </tr>\n",
       "    <tr>\n",
       "      <th>120</th>\n",
       "      <td>120</td>\n",
       "      <td>2323.0</td>\n",
       "      <td>124.550</td>\n",
       "      <td>35.0</td>\n",
       "      <td>9.670</td>\n",
       "    </tr>\n",
       "    <tr>\n",
       "      <th>119</th>\n",
       "      <td>119</td>\n",
       "      <td>2263.0</td>\n",
       "      <td>103.980</td>\n",
       "      <td>24.0</td>\n",
       "      <td>10.120</td>\n",
       "    </tr>\n",
       "    <tr>\n",
       "      <th>121</th>\n",
       "      <td>121</td>\n",
       "      <td>2419.0</td>\n",
       "      <td>103.100</td>\n",
       "      <td>60.0</td>\n",
       "      <td>9.400</td>\n",
       "    </tr>\n",
       "  </tbody>\n",
       "</table>\n",
       "<p>122 rows × 5 columns</p>\n",
       "</div>"
      ],
      "text/plain": [
       "     Unnamed: 0     ell    D(ell)  Uncertainty in ell  Uncertainty in D(ell)\n",
       "54           54   233.0  5703.160                15.0                 95.140\n",
       "53           53   202.0  5524.530                15.0                101.050\n",
       "55           55   264.0  4953.540                15.0                 81.720\n",
       "52           52   171.0  4867.410                15.0                 97.940\n",
       "56           56   295.0  4116.060                15.0                 64.140\n",
       "51           51   140.0  3893.830                15.0                 87.350\n",
       "57           57   326.0  3123.860                15.0                 46.600\n",
       "50           50   109.0  3027.820                15.0                 73.290\n",
       "63           63   512.0  2506.610                15.0                 28.890\n",
       "64           64   543.0  2484.240                15.0                 28.780\n",
       "73           73   822.0  2464.710                15.0                 24.000\n",
       "65           65   574.0  2396.510                15.0                 26.610\n",
       "72           72   791.0  2345.970                15.0                 23.980\n",
       "74           74   853.0  2341.590                15.0                 22.460\n",
       "58           58   357.0  2282.710                15.0                 32.850\n",
       "71           71   760.0  2237.310                15.0                 22.600\n",
       "62           62   481.0  2229.410                15.0                 26.900\n",
       "66           66   605.0  2124.690                15.0                 23.390\n",
       "75           75   884.0  2030.010                15.0                 19.700\n",
       "49           49    78.0  2016.710                15.0                 60.070\n",
       "70           70   729.0  1962.250                15.0                 20.610\n",
       "38           38    40.0  1927.530                 0.0                294.639\n",
       "61           61   450.0  1922.190                15.0                 23.960\n",
       "67           67   636.0  1863.840                15.0                 20.440\n",
       "59           59   388.0  1836.200                15.0                 24.750\n",
       "69           69   698.0  1819.880                15.0                 19.050\n",
       "68           68   667.0  1792.350                15.0                 18.860\n",
       "60           60   419.0  1691.910                15.0                 22.370\n",
       "76           76   915.0  1682.610                15.0                 16.420\n",
       "45           45    47.0  1619.330                 0.0                246.182\n",
       "..          ...     ...       ...                 ...                    ...\n",
       "20           20    22.0   620.243                 0.0                136.567\n",
       "4             4     6.0   599.185                 0.0                218.548\n",
       "19           19    21.0   581.438                 0.0                134.609\n",
       "96           96  1535.0   554.480                15.0                  6.700\n",
       "97           97  1566.0   477.660                15.0                  6.060\n",
       "98           98  1597.0   420.020                15.0                  5.650\n",
       "99           99  1628.0   387.210                15.0                  5.510\n",
       "100         100  1659.0   382.850                15.0                  5.590\n",
       "102         102  1721.0   374.450                15.0                  6.010\n",
       "101         101  1690.0   373.950                15.0                  5.790\n",
       "103         103  1752.0   365.190                15.0                  6.170\n",
       "104         104  1783.0   342.350                15.0                  6.240\n",
       "105         105  1814.0   319.730                15.0                  6.250\n",
       "0             0     2.0   299.495                 0.0                159.596\n",
       "106         106  1845.0   278.340                15.0                  6.250\n",
       "107         107  1876.0   250.100                15.0                  6.310\n",
       "108         108  1907.0   239.600                15.0                  6.470\n",
       "111         111  2000.0   232.560                15.0                  7.660\n",
       "110         110  1969.0   226.130                15.0                  7.130\n",
       "113         113  2062.0   218.140                15.0                  8.700\n",
       "109         109  1938.0   215.630                15.0                  6.750\n",
       "112         112  2031.0   213.070                15.0                  8.210\n",
       "114         114  2093.0   208.670                15.0                  9.190\n",
       "115         115  2124.0   191.160                15.0                  9.700\n",
       "116         116  2155.0   179.330                15.0                 10.250\n",
       "117         117  2186.0   162.270                15.0                 10.880\n",
       "118         118  2220.0   127.880                18.0                 10.630\n",
       "120         120  2323.0   124.550                35.0                  9.670\n",
       "119         119  2263.0   103.980                24.0                 10.120\n",
       "121         121  2419.0   103.100                60.0                  9.400\n",
       "\n",
       "[122 rows x 5 columns]"
      ]
     },
     "execution_count": 34,
     "metadata": {},
     "output_type": "execute_result"
    }
   ],
   "source": [
    "spec_data.sort_values(by=\"D(ell)\", ascending=False)"
   ]
  },
  {
   "cell_type": "markdown",
   "metadata": {
    "collapsed": false
   },
   "source": [
    "## Code Snippet 4\n",
    "\n",
    "This snippet is distributed after discussing the multipole moment $\\ell$ and spherical harmonics.\n",
    "\n",
    "Students have the opportunity to plot spherical harmonics $Y_{\\ell}^m$ for various $\\ell, m$ to gain intuition for the properties of these functions."
   ]
  },
  {
   "cell_type": "code",
   "execution_count": 35,
   "metadata": {
    "collapsed": false
   },
   "outputs": [
    {
     "data": {
      "image/png": "[encoded data removed]",
      "text/plain": [
       "<matplotlib.figure.Figure at 0xdd109e8>"
      ]
     },
     "metadata": {},
     "output_type": "display_data"
    }
   ],
   "source": [
    "%run data/spharm.py\n",
    "\n",
    "plot_spherical_harmonic(l=5, m=2)"
   ]
  },
  {
   "cell_type": "markdown",
   "metadata": {},
   "source": [
    "## Code Snippet 5a\n",
    "\n",
    "Distribute this to students after discussing how the experimental apparatus computes a temperature when looking at a small patch of sky."
   ]
  },
  {
   "cell_type": "code",
   "execution_count": 36,
   "metadata": {
    "collapsed": false
   },
   "outputs": [
    {
     "data": {
      "text/plain": [
       "<matplotlib.text.Text at 0xe6f5358>"
      ]
     },
     "execution_count": 36,
     "metadata": {},
     "output_type": "execute_result"
    },
    {
     "data": {
      "image/png": "[encoded data removed]",
      "text/plain": [
       "<matplotlib.figure.Figure at 0xd3ebef0>"
      ]
     },
     "metadata": {},
     "output_type": "display_data"
    }
   ],
   "source": [
    "patch_freq = pd.read_csv(\"data/patch_freq.csv\")\n",
    "patch_freq.plot(x='freq', y='I',kind='scatter')\n",
    "plt.title(\"Spectral Radiance vs. Frequency\")"
   ]
  },
  {
   "cell_type": "markdown",
   "metadata": {},
   "source": [
    "## Code Snippet 5b\n",
    "\n",
    "Distribute after students have plotted the frequency distribution in 5a, and after discussing how a black body at a given temperature radiates light with a combination of different frequencies. \n",
    "\n",
    "Going backwards, if we know “how much” light of each frequency is emitted by some object, we can calculate its temperature!"
   ]
  },
  {
   "cell_type": "code",
   "execution_count": 37,
   "metadata": {
    "collapsed": false
   },
   "outputs": [
    {
     "name": "stdout",
     "output_type": "stream",
     "text": [
      "('Estimate of CMB temperature = ', 2.7250094036918231)\n"
     ]
    }
   ],
   "source": [
    "from scipy.optimize import curve_fit\n",
    "%run data/black_body.py\n",
    "\n",
    "patch_frequencies = patch_freq[\"freq\"].values\n",
    "patch_intensities = patch_freq[\"I\"].values\n",
    "\n",
    "fit_result = curve_fit(black_body, patch_frequencies, patch_intensities)\n",
    "\n",
    "print(\"Estimate of CMB temperature = \", fit_result[0][0])"
   ]
  },
  {
   "cell_type": "markdown",
   "metadata": {},
   "source": [
    "## Code Snippet 5c\n",
    "\n",
    "Distribute this after students have obtained a temperature estimate in code snippet 5c. This snippet allows them to see visually how well the black-body curve with their chosen temperature fits the data."
   ]
  },
  {
   "cell_type": "code",
   "execution_count": 38,
   "metadata": {
    "collapsed": false
   },
   "outputs": [
    {
     "data": {
      "text/plain": [
       "<matplotlib.text.Text at 0xe9e4e10>"
      ]
     },
     "execution_count": 38,
     "metadata": {},
     "output_type": "execute_result"
    },
    {
     "data": {
      "image/png": "[encoded data removed]",
      "text/plain": [
       "<matplotlib.figure.Figure at 0xe7b0ac8>"
      ]
     },
     "metadata": {},
     "output_type": "display_data"
    }
   ],
   "source": [
    "my_T = 2.725 ## Change this to your estimate of CMB temperature!\n",
    "\n",
    "patch_freq[\"fit\"] = [black_body(i, my_T) for i in patch_freq[\"freq\"].values]\n",
    "\n",
    "same_plot = patch_freq.plot(x='freq', y='I', kind='scatter')\n",
    "patch_freq.plot(x='freq', y='fit', ax=same_plot, kind='line', color='red')\n",
    "plt.legend([\"Black Body Fit\",\"CMB Data\"])\n",
    "plt.title(\"Spectral Radiance vs. Frequency\")"
   ]
  },
  {
   "cell_type": "markdown",
   "metadata": {},
   "source": [
    "## Code Snippet 6\n",
    "\n",
    "Distribute this after talking about photon diffusion and an exponential fit for the tail."
   ]
  },
  {
   "cell_type": "code",
   "execution_count": 39,
   "metadata": {
    "collapsed": false
   },
   "outputs": [
    {
     "name": "stdout",
     "output_type": "stream",
     "text": [
      "('Best A = ', 2189.7807962839279)\n",
      "('Best k = ', 0.002020414614933796)\n"
     ]
    },
    {
     "data": {
      "text/plain": [
       "<matplotlib.legend.Legend at 0xed270b8>"
      ]
     },
     "execution_count": 39,
     "metadata": {},
     "output_type": "execute_result"
    },
    {
     "data": {
      "image/png": "[encoded data removed]",
      "text/plain": [
       "<matplotlib.figure.Figure at 0xcce18d0>"
      ]
     },
     "metadata": {},
     "output_type": "display_data"
    }
   ],
   "source": [
    "from scipy.optimize import curve_fit\n",
    "\n",
    "ell_0 = 800 ## Starting value for \"high ell\" regime\n",
    "\n",
    "big_ell_data = spec_data[spec_data[\"ell\"] > ell_0]\n",
    "big_ells = big_ell_data[\"ell\"].values\n",
    "big_D_ells = big_ell_data[\"D(ell)\"].values\n",
    "\n",
    "def exponential_function(ell, A, k):\n",
    "    return A*np.exp(-k*(ell-ell_0))\n",
    "\n",
    "fit_result = curve_fit(exponential_function, \n",
    "                       big_ells, big_D_ells, p0=[2500, 0.02])\n",
    "\n",
    "print(\"Best A = \", fit_result[0][0])\n",
    "print(\"Best k = \", fit_result[0][1])\n",
    "\n",
    "plt.plot(big_ells, big_D_ells, 'bo')\n",
    "plt.plot(big_ells, \n",
    "         [exponential_function(ell,fit_result[0][0], fit_result[0][1]) \n",
    "          for ell in big_ells], 'r-')\n",
    "plt.legend(['High-$\\ell$ Data', 'Exponential Fit'])"
   ]
  },
  {
   "cell_type": "code",
   "execution_count": null,
   "metadata": {
    "collapsed": true
   },
   "outputs": [],
   "source": []
  }
 ],
 "metadata": {
  "kernelspec": {
   "display_name": "Python 2",
   "language": "python",
   "name": "python2"
  },
  "language_info": {
   "codemirror_mode": {
    "name": "ipython",
    "version": 2
   },
   "file_extension": ".py",
   "mimetype": "text/x-python",
   "name": "python",
   "nbconvert_exporter": "python",
   "pygments_lexer": "ipython2",
   "version": "2.7.11"
  }
 },
 "nbformat": 4,
 "nbformat_minor": 0
}
