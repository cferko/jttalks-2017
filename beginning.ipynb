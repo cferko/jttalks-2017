{
 "cells": [
  {
   "cell_type": "markdown",
   "metadata": {},
   "source": [
    "# In the Beginning\n",
    "## Exploring Cosmic Microwave Background Data\n",
    "\n",
    "Click inside the cell below this one and hit the SHIFT and ENTER keys at the same time."
   ]
  },
  {
   "cell_type": "code",
   "execution_count": null,
   "metadata": {
    "collapsed": false
   },
   "outputs": [],
   "source": [
    "import numpy as np, pandas as pd, matplotlib.pyplot as plt, seaborn as sns\n",
    "sns.set_context(\"notebook\") ## This makes things look prettier\n",
    "%matplotlib inline\n",
    "\n",
    "spec_data = pd.read_csv(\"data/spec_data.csv\")\n",
    "\n",
    "spec_data.plot(x='ell', y='D(ell)', kind='scatter', logx=True, xlim=[2.,2500.], ylim=[0,6000])\n",
    "plt.xlabel(r'$\\ell$')\n",
    "plt.ylabel(r'$D(\\ell)$')\n",
    "plt.title(\"Data from Planck Satellite\")"
   ]
  },
  {
   "cell_type": "markdown",
   "metadata": {},
   "source": [
    "This is a plot of the power spectrum in the cosmic microwave background. It is, quite literally, a baby picture of our universe.\n",
    "\n",
    "There is an unbelievable amount of information hidden in this one simple image, but at the moment, none of that information is obvious because I haven't told you anything about it! You might have questions like\n",
    "\n",
    "* What are these axes? What is $\\ell$ and what is $D(\\ell)$ ? \n",
    "* How did the experimental apparatus in the Planck satellite produce this image? How do we turn light into a temperature?\n",
    "* What is the meaning of this big peak and these secondary peaks? What physics is encoded in this tail behavior?\n",
    "* If this is _measured_ data, how does it compare with _predictions_ from theory?\n",
    "\n",
    "and more.\n",
    "\n",
    "In a lecture, I would tell you the answers to these questions. But today, you're going to break into small groups and ask these questions yourselves. Your mission is to look at the data and decide which questions you find most interesting. Then you can ask the facilitators -- me, Ms. Mauro, Michelle, or Takumi -- for help in investigating your questions.\n",
    "\n",
    "We'll give you hints and hand out snippets of code for you to type in and evaluate, which will help you understand and answer the questions you come up with, but the ultimate responsibility for answering the questions lies with *you*. Today, you play the scientists: you get to choose what's interesting and worth investigating. At the end, I'll ask you to summarize what you've learned and ask what questions remain unanswered.\n",
    "\n",
    "Sound like fun? I sure think so. Let's dive in!"
   ]
  },
  {
   "cell_type": "markdown",
   "metadata": {},
   "source": [
    "**Checkpoint 1**. Look at the plot above and discuss with your group what question about the data you're most curious about.\n",
    "\n",
    "Then flag down a *facilitator*, explain why you're interested, and discuss how to proceed. They might give you information, code snippets to try out, or even achievements for good questions or interesting comments!\n",
    "\n",
    "To enter more code snippets, click in the box below, start typing, and hit SHIFT and ENTER to evaluate. For example, type spec_data in the follow cell and evaluate to see the CMB data represented as a table."
   ]
  },
  {
   "cell_type": "code",
   "execution_count": null,
   "metadata": {
    "collapsed": true
   },
   "outputs": [],
   "source": []
  }
 ],
 "metadata": {
  "kernelspec": {
   "display_name": "Python 3",
   "language": "python",
   "name": "python3"
  },
  "language_info": {
   "codemirror_mode": {
    "name": "ipython",
    "version": 3
   },
   "file_extension": ".py",
   "mimetype": "text/x-python",
   "name": "python",
   "nbconvert_exporter": "python",
   "pygments_lexer": "ipython3",
   "version": "3.5.2"
  }
 },
 "nbformat": 4,
 "nbformat_minor": 0
}
