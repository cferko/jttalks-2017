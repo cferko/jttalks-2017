{
 "cells": [
  {
   "cell_type": "code",
   "execution_count": null,
   "metadata": {
    "collapsed": true
   },
   "outputs": [],
   "source": [
    "'''\n",
    "Here we import important functions for this project.\n",
    "'''\n",
    "%run data/jtt2017_prospect_helpers.py\n",
    "import numpy as np\n",
    "import random\n",
    "import matplotlib.pyplot as plt\n",
    "from scipy.optimize import curve_fit\n",
    "%matplotlib inline\n",
    "\n",
    "responses = []"
   ]
  },
  {
   "cell_type": "markdown",
   "metadata": {},
   "source": [
    "## PART 1. Evaluating Risk and Value when Studying for Tests\n",
    "\n",
    "Here, we are going to evaluate your team members' risk and reward profiles for a scenario you are all familiar with: studying for tests in school. Imagine that you and your partner(s) are getting ready for a big test in your most/least favorite class. We want to compare your tolerances for risk when preparing for this test.\n",
    "\n",
    "### A: What type of test is your team considering?\n",
    "\n",
    "When told, take a moment and discuss with your team which test you will be considering here. Agree on a class, a teacher, and the material that would be on this test. This could be a test you all took recently, or a final you all remember being particularly difficult.\n",
    "\n",
    "### B: What are the answers to your \"lottery questions?\"\n",
    "\n",
    "Once your \"test\" details are decided, we need to consider the lottery questions to answer. Here, the questions are posed as **certainty equivalence lottery questions**: they pose a choice between a lottery (a chance at a good and bad outcome) or a certainty event (you get a third outcome for sure).\n",
    "\n",
    "In this scenario, we will consider choices between:\n",
    "\n",
    "-  a *lottery* where there is a probability $p$ of getting a 100% on the test and a probability $1-p$ of getting a 40% on the test, and\n",
    "-  a *certainty* of getting a score $X$, as if the teacher agreed that this score matches what they would expect.\n",
    "\n",
    "**Your Task:** For each of four such decisions, determine what certain score, $X$, would make the decision between the lottery and the certain score a toss up: both options seem about equal to you. The four decisions are:\n",
    "\n",
    "- 1) A 20% chance at a 100%, and a 80% chance at a 40%, or a score of $X$.\n",
    "- 2) A 40% chance at a 100%, and a 60% chance at a 40%, or a score of $X$.\n",
    "- 3) A 60% chance at a 100%, and a 40% chance at a 40%, or a score of $X$.\n",
    "- 4) A 80% chance at a 100%, and a 20% chance at a 40%, or a score of $X$.\n",
    "\n",
    "On your index card, write numbers (1) through (4) down, and for each decision above, write the certain score of $X$ on the test that would make each option about equal in preference. DO NOT DISCUSS YOUR ANSWERS WITH YOUR PARTNER(S), this is an individual decision and there are no wrong answers.\n",
    "\n",
    "### C: Input your responses below and compare your value and risk profiles to your partner(s).\n",
    "\n",
    "In the cell below, replace 'MyNameHere' with one of your partner(s) names, and put their responses to the lottery questions in order in the \"response\" row below that name. Repeat for each of your partners for Name1 - Name4. If you need help, ask!"
   ]
  },
  {
   "cell_type": "code",
   "execution_count": null,
   "metadata": {
    "collapsed": true
   },
   "outputs": [],
   "source": [
    "responses = []\n",
    "\n",
    "# for each of your team members, put your responses to the lottery questions in the corresponding places:\n",
    "# select the text here and put the first team member's name\n",
    "Name1 = 'MyNameHere'\n",
    "response = [ 'NUM1', 'NUM2', 'NUM3', 'NUM4' ]\n",
    "response.append(Name1)\n",
    "responses.append(response)\n",
    "\n",
    "Name2 = 'MyNameHere'\n",
    "response = [ 'NUM1', 'NUM2', 'NUM3', 'NUM4' ]\n",
    "response.append(Name2)\n",
    "responses.append(response)\n",
    "\n",
    "Name3 = 'MyNameHere'\n",
    "response = [ 'NUM1', 'NUM2', 'NUM3', 'NUM4' ]\n",
    "response.append(Name3)\n",
    "responses.append(response)\n",
    "\n",
    "Name4 = 'MyNameHere'\n",
    "response = [ 'NUM1', 'NUM2', 'NUM3', 'NUM4' ]\n",
    "response.append(Name4)\n",
    "responses.append(response)\n",
    "\n",
    "for r in responses:\n",
    "    print(r)"
   ]
  },
  {
   "cell_type": "code",
   "execution_count": null,
   "metadata": {
    "collapsed": true
   },
   "outputs": [],
   "source": [
    "# get the data formatted correctly\n",
    "nameList = [Name1, Name2, Name3, Name4]\n",
    "teamData = getTeamData(nameList, responses)\n",
    "\n",
    "for key in teamData.keys():\n",
    "    if key != 'Y':\n",
    "        print(teamData[key], key)\n",
    "        \n",
    "# and plot everything!\n",
    "plotNiceGraphs(teamData)"
   ]
  },
  {
   "cell_type": "markdown",
   "metadata": {
    "collapsed": true
   },
   "source": [
    "## PART 2. Build Your Own Model!\n",
    "\n",
    "Now, take a moment with your team and try to come up with another decision scenario you could model using this approach. Let's break the problem down to build the scenario...\n",
    "\n",
    "### A: Determine the Scenario.\n",
    "\n",
    "First we need to come up with a decision scenario. We need a few things to make this work:\n",
    "- A **best case scenario.** In the last example, this was a 100% on the test.\n",
    "- A **worst case scenario.** In the last example, this was a 40% on the test.\n",
    "- A **range of other scenarios** between these best and worst cases. In the last example, these were the certain grades $X$ you could have gotten.\n",
    "\n",
    "Examples for such a scenario could be...\n",
    "- how long you need to work to buy something you want (best case = 0 hours, worst case = 10 or so hours, $X$ = some amounts of time in between)\n",
    "- how long you need to play Star Wars Battlefront II to unlock Darth Vader (best case = 0 hours, worst case = 40 or so hours, $X$ = some amounts of time in between)\n",
    "- how far your car will drive before it breaks down (best case = 300,000 miles, worst case = 50,000 or so miles, $X$ = some amounts of miles in between)\n",
    "\n",
    "... Or any other scenario you can think of.\n",
    "\n",
    "Write down a brief description of your scenario, and your best-case, worst-case, and possible range of scenarios.\n",
    "\n",
    "### B: Determine the \"Lottery Questions.\"\n",
    "\n",
    "**Your Task:** For each of four such decisions, determine what certain scenario, $X$, would make the decision between the lottery and the certain scenario a toss up: both options seem about equal to you. The four decisions are:\n",
    "\n",
    "- 1) A 20% chance at the **best case**, and a 80% chance at the **worst case**, or a scenario of $X$.\n",
    "- 2) A 40% chance at the **best case**, and a 60% chance at the **worst case**, or a scenario of $X$.\n",
    "- 3) A 60% chance at the **best case**, and a 40% chance at the **worst case**, or a scenario of $X$.\n",
    "- 4) A 80% chance at the **best case**, and a 20% chance at the **worst case**, or a scenario of $X$.\n",
    "\n",
    "### C: Get Responses for each of your partners, OR get the responses of another group.\n",
    "\n",
    "Pose these questions either to your group members or to members of another group, and input the names and responses below like last time. Also, put the **best case** and **worst case** values for your decision scenarios in the correct lines in the cell below as well. \n",
    "\n",
    "Ask if you need help!"
   ]
  },
  {
   "cell_type": "code",
   "execution_count": null,
   "metadata": {
    "collapsed": true
   },
   "outputs": [],
   "source": [
    "# input the BEST CASE scenario value here...\n",
    "BEST_CASE = 'ValueNumber'\n",
    "# input the WORST CASE scenario value here...\n",
    "WORST_CASE = 'ValueNumber'\n",
    "\n",
    "responses = []\n",
    "\n",
    "# for each of your team members, put your responses to the lottery questions in the corresponding places:\n",
    "\n",
    "Name1 = 'MyNameHere' # select the text here and put the first team member's name\n",
    "response = [ 'NUM1', 'NUM2', 'NUM3', 'NUM4' ]\n",
    "response.append(Name1)\n",
    "responses.append(response)\n",
    "\n",
    "Name2 = 'MyNameHere'\n",
    "response = [ 'NUM1', 'NUM2', 'NUM3', 'NUM4' ]\n",
    "response.append(Name2)\n",
    "responses.append(response)\n",
    "\n",
    "Name3 = 'MyNameHere'\n",
    "response = [ 'NUM1', 'NUM2', 'NUM3', 'NUM4' ]\n",
    "response.append(Name3)\n",
    "responses.append(response)\n",
    "\n",
    "Name4 = 'MyNameHere'\n",
    "response = [ 'NUM1', 'NUM2', 'NUM3', 'NUM4' ]\n",
    "response.append(Name4)\n",
    "responses.append(response)\n",
    "\n",
    "for r in responses:\n",
    "    print(r)"
   ]
  },
  {
   "cell_type": "code",
   "execution_count": null,
   "metadata": {
    "collapsed": true
   },
   "outputs": [],
   "source": [
    "# get the data formatted correctly\n",
    "nameList = [Name1, Name2, Name3, Name4]\n",
    "teamData = getTeamData(nameList, responses,\n",
    "                       minGrade = float(WORST_CASE),\n",
    "                       maxGrade = float(BEST_CASE))\n",
    "\n",
    "for key in teamData.keys():\n",
    "    if key != 'Y':\n",
    "        print(teamData[key], key)\n",
    "        \n",
    "# and plot everything!\n",
    "plotNiceGraphs(teamData,\n",
    "              minGrade = float(WORST_CASE),\n",
    "              maxGrade = float(BEST_CASE))"
   ]
  },
  {
   "cell_type": "code",
   "execution_count": null,
   "metadata": {
    "collapsed": true
   },
   "outputs": [],
   "source": []
  }
 ],
 "metadata": {
  "kernelspec": {
   "display_name": "Python 2",
   "language": "python",
   "name": "python2"
  },
  "language_info": {
   "codemirror_mode": {
    "name": "ipython",
    "version": 2
   },
   "file_extension": ".py",
   "mimetype": "text/x-python",
   "name": "python",
   "nbconvert_exporter": "python",
   "pygments_lexer": "ipython2",
   "version": "2.7.13"
  }
 },
 "nbformat": 4,
 "nbformat_minor": 2
}
